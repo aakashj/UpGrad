{
 "cells": [
  {
   "cell_type": "markdown",
   "metadata": {},
   "source": [
    "<div style=\"display:block\">\n",
    "    <div style=\"width: 15%; display: inline-block; text-align: left;\">\n",
    "        <img src=\"Images/Logo.png\" alt=\"BCG\" height=\"200\" width=\"300\">\n",
    "    </div>\n",
    "    <div style=\"width: 59%; display: inline-block; align: center\">\n",
    "        <div style=\"width: 100%; text-align: center; display: inline-block;\"><strong><b><font size=\"6.5\" color =\"306754\" style=\"font-family:Trebuchet MS;\">Time Series Forecasting</font></b></strong></div>\n",
    "        <div style=\"width: 100%; text-align: center; display: inline-block;\"><strong><b><font size=\"5.5\" color =\"306754\" style=\"font-family:Trebuchet MS;\">Module A</font></b></strong></div>\n",
    "        <div style=\"width: 100%; text-align: center; display: inline-block;\"><i></i></div>\n",
    "    </div>\n",
    "   \n",
    "</div>"
   ]
  },
  {
   "cell_type": "markdown",
   "metadata": {
    "toc": true
   },
   "source": [
    "<h1>Table of Contents<span class=\"tocSkip\"></span></h1>\n",
    "<div class=\"toc\"><ul class=\"toc-item\"><li><span><a href=\"#Course-Introduction\" data-toc-modified-id=\"Course-Introduction-1\"><span class=\"toc-item-num\">1&nbsp;&nbsp;</span>Course Introduction</a></span><ul class=\"toc-item\"><li><span><a href=\"#Who-is-this-course-for?\" data-toc-modified-id=\"Who-is-this-course-for?-1.1\"><span class=\"toc-item-num\">1.1&nbsp;&nbsp;</span>Who is this course for?</a></span></li><li><span><a href=\"#Why-is-this-course-important?\" data-toc-modified-id=\"Why-is-this-course-important?-1.2\"><span class=\"toc-item-num\">1.2&nbsp;&nbsp;</span>Why is this course important?</a></span></li><li><span><a href=\"#What-will-you-learn-from-this-course?\" data-toc-modified-id=\"What-will-you-learn-from-this-course?-1.3\"><span class=\"toc-item-num\">1.3&nbsp;&nbsp;</span>What will you learn from this course?</a></span></li></ul></li><li><span><a href=\"#Introduction-to-Time-series\" data-toc-modified-id=\"Introduction-to-Time-series-2\"><span class=\"toc-item-num\">2&nbsp;&nbsp;</span>Introduction to Time series</a></span><ul class=\"toc-item\"><li><span><a href=\"#Time-series-use-cases\" data-toc-modified-id=\"Time-series-use-cases-2.1\"><span class=\"toc-item-num\">2.1&nbsp;&nbsp;</span>Time series use cases</a></span></li><li><span><a href=\"#How-is-time-series-forecasting-different-from-machine-learning-predictions?\" data-toc-modified-id=\"How-is-time-series-forecasting-different-from-machine-learning-predictions?-2.2\"><span class=\"toc-item-num\">2.2&nbsp;&nbsp;</span>How is time series forecasting different from machine learning predictions?</a></span></li><li><span><a href=\"#When-do-we-use-time-series-forecasting?\" data-toc-modified-id=\"When-do-we-use-time-series-forecasting?-2.3\"><span class=\"toc-item-num\">2.3&nbsp;&nbsp;</span>When do we use time series forecasting?</a></span></li><li><span><a href=\"#Components-of-Time-Series\" data-toc-modified-id=\"Components-of-Time-Series-2.4\"><span class=\"toc-item-num\">2.4&nbsp;&nbsp;</span>Components of Time Series</a></span></li><li><span><a href=\"#Time-series-forecasting-techniques\" data-toc-modified-id=\"Time-series-forecasting-techniques-2.5\"><span class=\"toc-item-num\">2.5&nbsp;&nbsp;</span>Time series forecasting techniques</a></span></li></ul></li><li><span><a href=\"#Time-Series-forecasting\" data-toc-modified-id=\"Time-Series-forecasting-3\"><span class=\"toc-item-num\">3&nbsp;&nbsp;</span>Time Series forecasting</a></span><ul class=\"toc-item\"><li><span><a href=\"#Importing-libraries-for-time-series-forecasting\" data-toc-modified-id=\"Importing-libraries-for-time-series-forecasting-3.1\"><span class=\"toc-item-num\">3.1&nbsp;&nbsp;</span>Importing libraries for time series forecasting</a></span></li><li><span><a href=\"#Data-import,-summary-and-preprocessing\" data-toc-modified-id=\"Data-import,-summary-and-preprocessing-3.2\"><span class=\"toc-item-num\">3.2&nbsp;&nbsp;</span>Data import, summary and preprocessing</a></span></li><li><span><a href=\"#Forecast-quality-scoring-metrics\" data-toc-modified-id=\"Forecast-quality-scoring-metrics-3.3\"><span class=\"toc-item-num\">3.3&nbsp;&nbsp;</span>Forecast quality scoring metrics</a></span></li><li><span><a href=\"#Simple-Moving-Average\" data-toc-modified-id=\"Simple-Moving-Average-3.4\"><span class=\"toc-item-num\">3.4&nbsp;&nbsp;</span>Simple Moving Average</a></span><ul class=\"toc-item\"><li><span><a href=\"#Why-Do-We-Use-SMA?\" data-toc-modified-id=\"Why-Do-We-Use-SMA?-3.4.1\"><span class=\"toc-item-num\">3.4.1&nbsp;&nbsp;</span>Why Do We Use SMA?</a></span></li><li><span><a href=\"#SMA-Example\" data-toc-modified-id=\"SMA-Example-3.4.2\"><span class=\"toc-item-num\">3.4.2&nbsp;&nbsp;</span>SMA Example</a></span></li></ul></li><li><span><a href=\"#Smoothing-methods\" data-toc-modified-id=\"Smoothing-methods-3.5\"><span class=\"toc-item-num\">3.5&nbsp;&nbsp;</span>Smoothing methods</a></span><ul class=\"toc-item\"><li><span><a href=\"#Why-Do-We-Use-Exponential-Smoothing?\" data-toc-modified-id=\"Why-Do-We-Use-Exponential-Smoothing?-3.5.1\"><span class=\"toc-item-num\">3.5.1&nbsp;&nbsp;</span>Why Do We Use Exponential Smoothing?</a></span></li><li><span><a href=\"#Types-of-Exponential-Smoothing-Methods\" data-toc-modified-id=\"Types-of-Exponential-Smoothing-Methods-3.5.2\"><span class=\"toc-item-num\">3.5.2&nbsp;&nbsp;</span>Types of Exponential Smoothing Methods</a></span><ul class=\"toc-item\"><li><span><a href=\"#Simple-Exponential-smoothing\" data-toc-modified-id=\"Simple-Exponential-smoothing-3.5.2.1\"><span class=\"toc-item-num\">3.5.2.1&nbsp;&nbsp;</span>Simple Exponential smoothing</a></span></li><li><span><a href=\"#Holt's-Linear-trend\" data-toc-modified-id=\"Holt's-Linear-trend-3.5.2.2\"><span class=\"toc-item-num\">3.5.2.2&nbsp;&nbsp;</span>Holt's Linear trend</a></span></li><li><span><a href=\"#Holt-Winter's-Exponential-smoothning\" data-toc-modified-id=\"Holt-Winter's-Exponential-smoothning-3.5.2.3\"><span class=\"toc-item-num\">3.5.2.3&nbsp;&nbsp;</span>Holt Winter's Exponential smoothning</a></span></li></ul></li></ul></li></ul></li></ul></div>"
   ]
  },
  {
   "cell_type": "markdown",
   "metadata": {},
   "source": [
    "# Course Introduction\n",
    "\n",
    "## Who is this course for?\n",
    "\n",
    "- Beginners who have no prior experience of working on time series forecasting\n",
    "- People who want to refresh their knowledge of time series forecasting\n",
    "- People who want to compare different time series forecasting techniques\n",
    "\n",
    "## Why is this course important?\n",
    "\n",
    "- This course provides a detailed introduction to time series forecasting\n",
    "- Covers all commonly used time series forecasting techniques\n",
    "- Shows scenarios in which different time series techniques can be implemented \n",
    "\n",
    "\n",
    "## What will you learn from this course?\n",
    "\n",
    "- Introduction to time series forecasting\n",
    "- Key concepts including smoothing, stationarity, ARIMA models, decomposition models etc.\n",
    "- Basic scenarios in which different time series techniques can be used\n"
   ]
  },
  {
   "cell_type": "markdown",
   "metadata": {},
   "source": [
    "# Introduction to Time series\n",
    "\n",
    "__Time series is anything observed sequentially over time.__\n",
    "\n",
    "- Most commonly, time series data is observed at equally spaced successive intervals of time.\n",
    "- The measurements taken during an event in a time series are arranged in a proper chronological order. \n",
    "- A time series containing records of a single variable is termed as univariate, and more than one variable a multivariate. \n",
    "- time series variable x(t) is treated as a random variable"
   ]
  },
  {
   "cell_type": "markdown",
   "metadata": {},
   "source": [
    "## Time series use cases\n",
    "\n",
    "- Predicting daily stock prices\n",
    "- Sales forecasting or demand forecasting of products for better inventory planning\n",
    "- Predicting energy demand for future\n",
    "- Predicting footfall(visitors) for retail stores at different times of day\n",
    "- Traffic forecasting - transport and route optimization, road facility design\n",
    "- Weather Forecasting across seasons"
   ]
  },
  {
   "cell_type": "markdown",
   "metadata": {},
   "source": [
    "## How is time series forecasting different from machine learning predictions?\n",
    "\n",
    "* **Time is an important factor:** A machine learning dataset is a collection of observations. Time does not play the primary role in machine learning datasets. However, in time series forecasting, the data has an index (time) that creates an implicit order. There are minimum of two dimensions to the data: The values observed & the time at which they were observed. Time Series Models try to understand changes/patterns in data (variable of interest) in response to time\n",
    "\n",
    "* **Feature creation:** Most of the time series forecasting techniques are univariate, i.e., there is only one feature. So feature creation does not play a major role. However, certain specific techniques like ARIMAX, UCM do use additional features. In these cases, features creation should be handled with care. Using forecasted values for features can propagate error to further predictions"
   ]
  },
  {
   "cell_type": "markdown",
   "metadata": {},
   "source": [
    "## When do we use time series forecasting?\n",
    "\n",
    "Time Series Forecasting is useful when time plays the most crucial role in determining the value of variable of interest and there are no or very few exogenous variables that can impact the particular variable. Every time series forecast deals with continuous data over time.\n",
    "\n",
    "<mark> E.g. A sales forecast for a retailer will be impacted the most due to trend, seasons (Holiday seasons, Festivals etc.) and business-cycles. The data of macro economic factors that impacts sales may or may not be available. A time series forecasting method will be preferred in such case. </mark>\n",
    "\n",
    "<mark> Consider a problem of predicting spend for each customer in a particular month. The spend in this case will largely be impacted by customer's own behavior. In most cases, customers' transactional data will be available. We will prefer an ML technique in this case. </mark>"
   ]
  },
  {
   "cell_type": "markdown",
   "metadata": {},
   "source": [
    "## Components of Time Series\n",
    "\n",
    "The various reasons or the forces which affect the values of an observation in a time series are the components of a time series. The four categories of the components of time series are\n",
    "\n",
    " - Trend\n",
    " - Seasonal Variations\n",
    " - Cyclic Variations\n",
    " - Random or Irregular movements\n",
    " \n",
    " <br> \n",
    " \n",
    " <centre> <img src=\"./Images/Time_series_components.PNG\" height=\"1200\" width=\"1000\"> </centre>\n",
    " \n",
    " \n",
    " - **Trend**: Trend is defined as long term increase or decrease in the data. It can be linear or non-linear\n",
    " \n",
    " - **Seasonality**: It is characteristics of time series in which data experiences regular and predictable changes after a fixed period.\n",
    " \n",
    " - **Cyclic**:  A cyclic pattern exists when data exhibit rises and falls that are not of fixed period.\n",
    " \n",
    " - **Irregularity**: After removing all above mentioned components from time series, the remaining part is called irregular component.\n",
    " \n",
    " **Following is a graphical representation of different components of a time series**\n",
    " <br> \n",
    " "
   ]
  },
  {
   "cell_type": "markdown",
   "metadata": {},
   "source": [
    " <centre> <img src=\"./Images/Time_series_components_graphs.PNG\" height=\"1200\" width=\"1000\"> </centre>\n",
    "\n",
    "<br>\n",
    "<centre> <img src=\"./Images/Time_series_decomposition.PNG\" height=\"1200\" width=\"1000\"> </centre>"
   ]
  },
  {
   "cell_type": "markdown",
   "metadata": {},
   "source": [
    " \n",
    " ## Time series forecasting techniques\n",
    " <br>\n",
    " <centre> <img src=\"./Images/Forecasting_Techniques_1.png\" height=\"1500\" width=\"1000\"> </centre>\n",
    " \n",
    "**We will be covering Smoothing Based Techniques in this notebook**"
   ]
  },
  {
   "cell_type": "markdown",
   "metadata": {},
   "source": [
    "# Time Series forecasting"
   ]
  },
  {
   "cell_type": "markdown",
   "metadata": {},
   "source": [
    "## Importing libraries for time series forecasting"
   ]
  },
  {
   "cell_type": "code",
   "execution_count": 1,
   "metadata": {},
   "outputs": [],
   "source": [
    "import warnings\n",
    "import itertools\n",
    "import numpy as np\n",
    "import matplotlib.pyplot as plt\n",
    "warnings.filterwarnings(\"ignore\")\n",
    "plt.style.use('fivethirtyeight')\n",
    "\n",
    "import pandas as pd\n",
    "pd.set_option('display.expand_frame_repr', False)\n",
    "pd.set_option('display.max_columns', 500)\n",
    "pd.set_option('display.width', 1000)\n",
    "\n",
    "import statsmodels.api as sm\n",
    "from statsmodels.graphics.tsaplots import plot_acf\n",
    "from statsmodels.graphics.tsaplots import plot_pacf\n",
    "from statsmodels.tsa.stattools import adfuller\n",
    "from statsmodels.tsa.seasonal import seasonal_decompose\n",
    "from statsmodels.tsa.ar_model import AR\n",
    "from statsmodels.tsa.arima_model import ARMA, ARIMA\n",
    "from pmdarima.arima import auto_arima\n",
    "from statsmodels.tsa.statespace.sarimax import SARIMAX\n",
    "#from fbprophet import Prophet\n",
    "\n",
    "from math import sqrt\n",
    "\n",
    "import matplotlib\n",
    "matplotlib.rcParams['axes.labelsize'] = 14\n",
    "matplotlib.rcParams['xtick.labelsize'] = 12\n",
    "matplotlib.rcParams['ytick.labelsize'] = 12\n",
    "matplotlib.rcParams['text.color'] = 'k'\n",
    "import seaborn as sns\n",
    "\n",
    "from random import random\n",
    "\n",
    "from sklearn.metrics import mean_squared_error, r2_score, mean_absolute_error, median_absolute_error, mean_squared_log_error"
   ]
  },
  {
   "cell_type": "markdown",
   "metadata": {},
   "source": [
    "## Data import, summary and preprocessing\n",
    "\n",
    "Let's walk through these techniques with a sample dataset\n",
    "\n",
    "- Dataset: International airline passengers\n",
    "- Unit: Thousands"
   ]
  },
  {
   "cell_type": "code",
   "execution_count": 2,
   "metadata": {},
   "outputs": [
    {
     "data": {
      "text/html": [
       "<div>\n",
       "<style scoped>\n",
       "    .dataframe tbody tr th:only-of-type {\n",
       "        vertical-align: middle;\n",
       "    }\n",
       "\n",
       "    .dataframe tbody tr th {\n",
       "        vertical-align: top;\n",
       "    }\n",
       "\n",
       "    .dataframe thead th {\n",
       "        text-align: right;\n",
       "    }\n",
       "</style>\n",
       "<table border=\"1\" class=\"dataframe\">\n",
       "  <thead>\n",
       "    <tr style=\"text-align: right;\">\n",
       "      <th></th>\n",
       "      <th>year</th>\n",
       "      <th>passengers</th>\n",
       "    </tr>\n",
       "  </thead>\n",
       "  <tbody>\n",
       "    <tr>\n",
       "      <td>0</td>\n",
       "      <td>1949-01</td>\n",
       "      <td>112</td>\n",
       "    </tr>\n",
       "    <tr>\n",
       "      <td>1</td>\n",
       "      <td>1949-02</td>\n",
       "      <td>118</td>\n",
       "    </tr>\n",
       "    <tr>\n",
       "      <td>2</td>\n",
       "      <td>1949-03</td>\n",
       "      <td>132</td>\n",
       "    </tr>\n",
       "    <tr>\n",
       "      <td>3</td>\n",
       "      <td>1949-04</td>\n",
       "      <td>129</td>\n",
       "    </tr>\n",
       "    <tr>\n",
       "      <td>4</td>\n",
       "      <td>1949-05</td>\n",
       "      <td>121</td>\n",
       "    </tr>\n",
       "    <tr>\n",
       "      <td>5</td>\n",
       "      <td>1949-06</td>\n",
       "      <td>135</td>\n",
       "    </tr>\n",
       "    <tr>\n",
       "      <td>6</td>\n",
       "      <td>1949-07</td>\n",
       "      <td>148</td>\n",
       "    </tr>\n",
       "    <tr>\n",
       "      <td>7</td>\n",
       "      <td>1949-08</td>\n",
       "      <td>148</td>\n",
       "    </tr>\n",
       "    <tr>\n",
       "      <td>8</td>\n",
       "      <td>1949-09</td>\n",
       "      <td>136</td>\n",
       "    </tr>\n",
       "    <tr>\n",
       "      <td>9</td>\n",
       "      <td>1949-10</td>\n",
       "      <td>119</td>\n",
       "    </tr>\n",
       "  </tbody>\n",
       "</table>\n",
       "</div>"
      ],
      "text/plain": [
       "      year  passengers\n",
       "0  1949-01         112\n",
       "1  1949-02         118\n",
       "2  1949-03         132\n",
       "3  1949-04         129\n",
       "4  1949-05         121\n",
       "5  1949-06         135\n",
       "6  1949-07         148\n",
       "7  1949-08         148\n",
       "8  1949-09         136\n",
       "9  1949-10         119"
      ]
     },
     "execution_count": 2,
     "metadata": {},
     "output_type": "execute_result"
    }
   ],
   "source": [
    "df = pd.read_csv('./Data/international-airline-passengers.csv')\n",
    "df.columns = ['year','passengers']\n",
    "\n",
    "df.head(10)"
   ]
  },
  {
   "cell_type": "code",
   "execution_count": 3,
   "metadata": {},
   "outputs": [
    {
     "data": {
      "text/html": [
       "<div>\n",
       "<style scoped>\n",
       "    .dataframe tbody tr th:only-of-type {\n",
       "        vertical-align: middle;\n",
       "    }\n",
       "\n",
       "    .dataframe tbody tr th {\n",
       "        vertical-align: top;\n",
       "    }\n",
       "\n",
       "    .dataframe thead th {\n",
       "        text-align: right;\n",
       "    }\n",
       "</style>\n",
       "<table border=\"1\" class=\"dataframe\">\n",
       "  <thead>\n",
       "    <tr style=\"text-align: right;\">\n",
       "      <th></th>\n",
       "      <th>passengers</th>\n",
       "    </tr>\n",
       "  </thead>\n",
       "  <tbody>\n",
       "    <tr>\n",
       "      <td>count</td>\n",
       "      <td>144.000000</td>\n",
       "    </tr>\n",
       "    <tr>\n",
       "      <td>mean</td>\n",
       "      <td>280.298611</td>\n",
       "    </tr>\n",
       "    <tr>\n",
       "      <td>std</td>\n",
       "      <td>119.966317</td>\n",
       "    </tr>\n",
       "    <tr>\n",
       "      <td>min</td>\n",
       "      <td>104.000000</td>\n",
       "    </tr>\n",
       "    <tr>\n",
       "      <td>25%</td>\n",
       "      <td>180.000000</td>\n",
       "    </tr>\n",
       "    <tr>\n",
       "      <td>50%</td>\n",
       "      <td>265.500000</td>\n",
       "    </tr>\n",
       "    <tr>\n",
       "      <td>75%</td>\n",
       "      <td>360.500000</td>\n",
       "    </tr>\n",
       "    <tr>\n",
       "      <td>max</td>\n",
       "      <td>622.000000</td>\n",
       "    </tr>\n",
       "  </tbody>\n",
       "</table>\n",
       "</div>"
      ],
      "text/plain": [
       "       passengers\n",
       "count  144.000000\n",
       "mean   280.298611\n",
       "std    119.966317\n",
       "min    104.000000\n",
       "25%    180.000000\n",
       "50%    265.500000\n",
       "75%    360.500000\n",
       "max    622.000000"
      ]
     },
     "execution_count": 3,
     "metadata": {},
     "output_type": "execute_result"
    }
   ],
   "source": [
    "df.describe()"
   ]
  },
  {
   "cell_type": "code",
   "execution_count": 4,
   "metadata": {},
   "outputs": [
    {
     "data": {
      "text/html": [
       "<div>\n",
       "<style scoped>\n",
       "    .dataframe tbody tr th:only-of-type {\n",
       "        vertical-align: middle;\n",
       "    }\n",
       "\n",
       "    .dataframe tbody tr th {\n",
       "        vertical-align: top;\n",
       "    }\n",
       "\n",
       "    .dataframe thead th {\n",
       "        text-align: right;\n",
       "    }\n",
       "</style>\n",
       "<table border=\"1\" class=\"dataframe\">\n",
       "  <thead>\n",
       "    <tr style=\"text-align: right;\">\n",
       "      <th></th>\n",
       "      <th>year</th>\n",
       "    </tr>\n",
       "  </thead>\n",
       "  <tbody>\n",
       "    <tr>\n",
       "      <td>count</td>\n",
       "      <td>144</td>\n",
       "    </tr>\n",
       "    <tr>\n",
       "      <td>unique</td>\n",
       "      <td>144</td>\n",
       "    </tr>\n",
       "    <tr>\n",
       "      <td>top</td>\n",
       "      <td>1956-01</td>\n",
       "    </tr>\n",
       "    <tr>\n",
       "      <td>freq</td>\n",
       "      <td>1</td>\n",
       "    </tr>\n",
       "  </tbody>\n",
       "</table>\n",
       "</div>"
      ],
      "text/plain": [
       "           year\n",
       "count       144\n",
       "unique      144\n",
       "top     1956-01\n",
       "freq          1"
      ]
     },
     "execution_count": 4,
     "metadata": {},
     "output_type": "execute_result"
    }
   ],
   "source": [
    "df.describe(include='O')"
   ]
  },
  {
   "cell_type": "code",
   "execution_count": 5,
   "metadata": {},
   "outputs": [
    {
     "name": "stdout",
     "output_type": "stream",
     "text": [
      "Time period start: 1949-01\n",
      "Time period end: 1960-12\n"
     ]
    }
   ],
   "source": [
    "print('Time period start: {}\\nTime period end: {}'.format(df.year.min(),df.year.max()))"
   ]
  },
  {
   "cell_type": "code",
   "execution_count": 6,
   "metadata": {},
   "outputs": [
    {
     "data": {
      "text/plain": [
       "(144, 2)"
      ]
     },
     "execution_count": 6,
     "metadata": {},
     "output_type": "execute_result"
    }
   ],
   "source": [
    "df.shape"
   ]
  },
  {
   "cell_type": "markdown",
   "metadata": {},
   "source": [
    "__Converting to datetime format:__"
   ]
  },
  {
   "cell_type": "code",
   "execution_count": 7,
   "metadata": {},
   "outputs": [],
   "source": [
    "df['year'] = pd.to_datetime(df['year'], format='%Y-%m')"
   ]
  },
  {
   "cell_type": "markdown",
   "metadata": {},
   "source": [
    "__Setting index as the datetime column for easier manipulations:__"
   ]
  },
  {
   "cell_type": "code",
   "execution_count": 8,
   "metadata": {},
   "outputs": [],
   "source": [
    "y = df.set_index('year')"
   ]
  },
  {
   "cell_type": "code",
   "execution_count": 9,
   "metadata": {},
   "outputs": [
    {
     "data": {
      "text/plain": [
       "DatetimeIndex(['1949-01-01', '1949-02-01', '1949-03-01', '1949-04-01', '1949-05-01', '1949-06-01', '1949-07-01', '1949-08-01', '1949-09-01', '1949-10-01',\n",
       "               ...\n",
       "               '1960-03-01', '1960-04-01', '1960-05-01', '1960-06-01', '1960-07-01', '1960-08-01', '1960-09-01', '1960-10-01', '1960-11-01', '1960-12-01'], dtype='datetime64[ns]', name='year', length=144, freq=None)"
      ]
     },
     "execution_count": 9,
     "metadata": {},
     "output_type": "execute_result"
    }
   ],
   "source": [
    "y.index"
   ]
  },
  {
   "cell_type": "code",
   "execution_count": 10,
   "metadata": {},
   "outputs": [
    {
     "data": {
      "text/plain": [
       "passengers    0\n",
       "dtype: int64"
      ]
     },
     "execution_count": 10,
     "metadata": {},
     "output_type": "execute_result"
    }
   ],
   "source": [
    "y.isnull().sum()"
   ]
  },
  {
   "cell_type": "markdown",
   "metadata": {},
   "source": [
    "## Forecast quality scoring metrics\n",
    "- __R squared__: coefficient of determination. This can be interpreted as variance explained by the model. Ranges from (-inf, 1]\n",
    "- __Mean Absolute Error (MAE)__: It is mean of mod(actual - predicted value). This metric is easy to interpret as it has the same unit of measurement as the initial series. It can range from [0, +inf)\n",
    "- __Mean Squared Error(MSE)__: This is mean of (actual-predicted)^2. The squared error gives higher penalty to large deviations. This ranges from [0,+inf)\n",
    "- __Mean Squared Logarithmic Error__ :This is practically same as MSE. However, we compute logarithm of the series while calculating this.  It is used when data has exponential trends. It ranges fro, [0, +inf)\n",
    "- __Root mean squared error (RMSE)__: This is standard deviation of the residuals. Range: [0, +inf)\n",
    "- __Mean Absolute Percentage Error(MAPE)__: This is MAE as a percentage of the actual. Range: [0,+inf)\n",
    "\n",
    "Use of various metrics\n",
    "\n",
    "- RMSE has the benefit of penalizing large errors more so can be more appropriate in some cases, for example, if being off by 10 is more than twice as bad as being off by 5. But if being off by 10 is just twice as bad as being off by 5, then MAE is more appropriate.\n",
    "\n",
    "- From an interpretation standpoint, MAE is clearly the winner. RMSE does not describe average error alone and has other implications that are more difficult to tease out and understand.\n",
    "\n",
    "- On the other hand, one distinct advantage of RMSE over MAE is that RMSE avoids the use of taking the absolute value, which is undesirable in many mathematical calculations"
   ]
  },
  {
   "cell_type": "code",
   "execution_count": 11,
   "metadata": {},
   "outputs": [],
   "source": [
    "def mean_absolute_percentage_error(y_true, y_pred): \n",
    "    y_true, y_pred = np.array(y_true), np.array(y_pred)\n",
    "    return np.mean(np.abs((y_true - y_pred) / y_true)) * 100\n",
    "\n",
    "def evaluate_forecast(y,pred):\n",
    "    results = pd.DataFrame({'r2_score':r2_score(y, pred),\n",
    "                           }, index=[0])\n",
    "    results['mean_absolute_error'] = mean_absolute_error(y, pred)\n",
    "    results['median_absolute_error'] = median_absolute_error(y, pred)\n",
    "    results['mse'] = mean_squared_error(y, pred)\n",
    "    #results['msle'] = mean_squared_log_error(y, pred)\n",
    "    results['mape'] = mean_absolute_percentage_error(y, pred)\n",
    "    results['rmse'] = np.sqrt(results['mse'])\n",
    "    return results"
   ]
  },
  {
   "cell_type": "markdown",
   "metadata": {},
   "source": [
    "## Simple Moving Average\n",
    "\n",
    "Simple Moving Average (SMA) is the simplest type of technique of forecasting. Basically, a simple moving average is calculated by adding up the last 'n' periods' values and then dividing that number by 'n'. So the moving average value is considering as the forecast for next period.\n",
    "\n",
    "\n",
    "### Why Do We Use SMA?\n",
    "\n",
    "Moving averages can be used to quickly identify whether series is moving in an uptrend or a downtrend depending on the pattern captured by the moving average.\n",
    "\n",
    "i.e. A moving average is used to smooth out irregularities (peaks and valleys) to easily recognize trends.\n",
    "\n",
    "### SMA Example\n",
    "\n",
    "Let us suppose, we have a time series data, to have a better understanding on SMA, Where, we have the graphical view of our data, in that we have twelve observations of Price with equal interval of time. After plotting our data, it seems that it has upward trend with lot of peaks and valleys.\n",
    "\n",
    "<br> \n",
    " \n",
    " <centre> <img src=\"./Images/SMA.png\" height=\"500\" width=\"800\"> </centre>\n",
    "\n",
    "\n",
    "The larger the interval, the more the peaks, and valleys are smoothed out. The smaller the interval, the closer the moving averages are to the actual data points. The SMA is basically deal with historical data having more and more peak and valleys. Probably it would be stock data, retail data etc."
   ]
  },
  {
   "cell_type": "code",
   "execution_count": 12,
   "metadata": {},
   "outputs": [],
   "source": [
    "## generate train & test data\n",
    "from pandas import Series\n",
    "from numpy import mean\n",
    "\n",
    "train_size = int(len(y) * 0.7)\n",
    "train, test = y[0:train_size], y[train_size:]\n",
    "train_list = train.passengers.tolist()\n",
    "test_list = test.passengers.tolist()"
   ]
  },
  {
   "cell_type": "code",
   "execution_count": 18,
   "metadata": {},
   "outputs": [
    {
     "data": {
      "text/plain": [
       "Timestamp('1957-04-01 00:00:00')"
      ]
     },
     "execution_count": 18,
     "metadata": {},
     "output_type": "execute_result"
    }
   ],
   "source": [
    "train.index.max()"
   ]
  },
  {
   "cell_type": "code",
   "execution_count": 13,
   "metadata": {},
   "outputs": [],
   "source": [
    "## set window to calculate moving average\n",
    "window = 12\n",
    "predictions = list()\n",
    "train_copy = train_list"
   ]
  },
  {
   "cell_type": "code",
   "execution_count": 14,
   "metadata": {
    "scrolled": true
   },
   "outputs": [
    {
     "name": "stdout",
     "output_type": "stream",
     "text": [
      "yhat: 339.0, range: 88-100\n",
      "yhat: 342.0833333333333, range: 89-101\n",
      "yhat: 346.0833333333333, range: 90-102\n",
      "yhat: 350.4166666666667, range: 91-103\n",
      "yhat: 355.5833333333333, range: 92-104\n",
      "yhat: 359.6666666666667, range: 93-105\n",
      "yhat: 363.0833333333333, range: 94-106\n",
      "yhat: 365.9166666666667, range: 95-107\n",
      "yhat: 368.4166666666667, range: 96-108\n",
      "yhat: 370.5, range: 97-109\n",
      "yhat: 371.9166666666667, range: 98-110\n",
      "yhat: 372.4166666666667, range: 99-111\n",
      "yhat: 372.4166666666667, range: 100-112\n",
      "yhat: 373.0833333333333, range: 101-113\n",
      "yhat: 374.1666666666667, range: 102-114\n",
      "yhat: 376.3333333333333, range: 103-115\n",
      "yhat: 379.5, range: 104-116\n",
      "yhat: 379.5, range: 105-117\n",
      "yhat: 380.5, range: 106-118\n",
      "yhat: 380.9166666666667, range: 107-119\n",
      "yhat: 381.0, range: 108-120\n",
      "yhat: 382.6666666666667, range: 109-121\n",
      "yhat: 384.6666666666667, range: 110-122\n",
      "yhat: 388.3333333333333, range: 111-123\n",
      "yhat: 392.3333333333333, range: 112-124\n",
      "yhat: 397.0833333333333, range: 113-125\n",
      "yhat: 400.1666666666667, range: 114-126\n",
      "yhat: 404.9166666666667, range: 115-127\n",
      "yhat: 409.4166666666667, range: 116-128\n",
      "yhat: 414.3333333333333, range: 117-129\n",
      "yhat: 418.3333333333333, range: 118-130\n",
      "yhat: 422.6666666666667, range: 119-131\n",
      "yhat: 428.3333333333333, range: 120-132\n",
      "yhat: 433.0833333333333, range: 121-133\n",
      "yhat: 437.1666666666667, range: 122-134\n",
      "yhat: 438.25, range: 123-135\n",
      "yhat: 443.6666666666667, range: 124-136\n",
      "yhat: 448.0, range: 125-137\n",
      "yhat: 453.25, range: 126-138\n",
      "yhat: 459.4166666666667, range: 127-139\n",
      "yhat: 463.3333333333333, range: 128-140\n",
      "yhat: 467.0833333333333, range: 129-141\n",
      "yhat: 471.5833333333333, range: 130-142\n",
      "yhat: 473.9166666666667, range: 131-143\n"
     ]
    }
   ],
   "source": [
    "# walk forward over time steps in test\n",
    "for t in range(len(test_list)):\n",
    "    length = len(train_copy)\n",
    "    yhat = mean([train_copy[i] for i in range(length-window,length)])\n",
    "    print(f\"yhat: {yhat}, range: {length-window}-{length}\")\n",
    "    obs = test_list[t]\n",
    "    predictions.append(yhat)\n",
    "    train_copy.append(obs)"
   ]
  },
  {
   "cell_type": "code",
   "execution_count": 19,
   "metadata": {
    "scrolled": true
   },
   "outputs": [
    {
     "data": {
      "text/plain": [
       "<matplotlib.legend.Legend at 0x1dac4449c08>"
      ]
     },
     "execution_count": 19,
     "metadata": {},
     "output_type": "execute_result"
    },
    {
     "data": {
      "image/png": "[encoded data removed]",
      "text/plain": [
       "<Figure size 432x288 with 1 Axes>"
      ]
     },
     "metadata": {
      "needs_background": "light"
     },
     "output_type": "display_data"
    }
   ],
   "source": [
    "## visualize the test data & predictions\n",
    "pred = pd.Series(predictions, index = test.index)\n",
    "plt.plot(test.passengers, label='Observed (test data)')\n",
    "plt.plot(pred, color='red', label = 'Predicted')\n",
    "plt.title('Simple Moving Average')\n",
    "plt.legend()"
   ]
  },
  {
   "cell_type": "code",
   "execution_count": 16,
   "metadata": {},
   "outputs": [
    {
     "data": {
      "text/html": [
       "<div>\n",
       "<style scoped>\n",
       "    .dataframe tbody tr th:only-of-type {\n",
       "        vertical-align: middle;\n",
       "    }\n",
       "\n",
       "    .dataframe tbody tr th {\n",
       "        vertical-align: top;\n",
       "    }\n",
       "\n",
       "    .dataframe thead th {\n",
       "        text-align: right;\n",
       "    }\n",
       "</style>\n",
       "<table border=\"1\" class=\"dataframe\">\n",
       "  <thead>\n",
       "    <tr style=\"text-align: right;\">\n",
       "      <th></th>\n",
       "      <th>r2_score</th>\n",
       "      <th>mean_absolute_error</th>\n",
       "      <th>median_absolute_error</th>\n",
       "      <th>mse</th>\n",
       "      <th>mape</th>\n",
       "      <th>rmse</th>\n",
       "    </tr>\n",
       "  </thead>\n",
       "  <tbody>\n",
       "    <tr>\n",
       "      <th>0</th>\n",
       "      <td>0.14453</td>\n",
       "      <td>54.575758</td>\n",
       "      <td>42.0</td>\n",
       "      <td>4999.42077</td>\n",
       "      <td>12.229998</td>\n",
       "      <td>70.706582</td>\n",
       "    </tr>\n",
       "  </tbody>\n",
       "</table>\n",
       "</div>"
      ],
      "text/plain": [
       "   r2_score  mean_absolute_error  median_absolute_error         mse       mape       rmse\n",
       "0   0.14453            54.575758                   42.0  4999.42077  12.229998  70.706582"
      ]
     },
     "execution_count": 16,
     "metadata": {},
     "output_type": "execute_result"
    }
   ],
   "source": [
    "## get predictions & evaluation metrics\n",
    "evaluate_forecast(test.passengers.tolist(), predictions)"
   ]
  },
  {
   "cell_type": "markdown",
   "metadata": {},
   "source": [
    "## Smoothing methods\n",
    "\n",
    "This is the second well known method to produce a smoothed Time Series. Exponential Smoothing assigns exponentially decreasing weights as the observation get older.\n",
    "\n",
    "### Why Do We Use Exponential Smoothing?\n",
    "\n",
    "Exponential smoothing is usually a way of 'smoothing' out the data by removing much of the 'noise' (random effect) from the data by giving a better forecast.\n",
    "\n",
    "### Types of Exponential Smoothing Methods\n",
    "\n",
    "**Simple Exponential Smoothing:**\n",
    "\n",
    "If you have a time series that can be described using an additive model with constant level and no seasonality, you can use simple exponential smoothing to make short-term forecast.\n",
    "\n",
    "**Holt’s Linear Trend:**\n",
    "\n",
    "If you have a time series that can be described using an additive model with increasing or decreasing trend and no seasonality, you can use Holt’s exponential smoothing to make short-term forecasts.\n",
    "\n",
    "**Holt Winter's Exponential Smoothing:**\n",
    "\n",
    "If you have a time series that can be described using an additive model with increasing or decreasing trend and seasonality, you can use Holt-Winters exponential smoothing to make short-term forecasts."
   ]
  },
  {
   "cell_type": "markdown",
   "metadata": {},
   "source": [
    "#### Simple Exponential smoothing"
   ]
  },
  {
   "cell_type": "code",
   "execution_count": 17,
   "metadata": {},
   "outputs": [],
   "source": [
    "## generate train & test data\n",
    "from statsmodels.tsa.api import SimpleExpSmoothing\n",
    "\n",
    "train_size = int(len(y) * 0.7)\n",
    "train, test = y[0:train_size], y[train_size:]"
   ]
  },
  {
   "cell_type": "code",
   "execution_count": 18,
   "metadata": {},
   "outputs": [
    {
     "name": "stderr",
     "output_type": "stream",
     "text": [
      "C:\\Users\\Sai Vishnu\\AppData\\Local\\Continuum\\anaconda3\\lib\\site-packages\\statsmodels\\tsa\\base\\tsa_model.py:171: ValueWarning: No frequency information was provided, so inferred frequency MS will be used.\n",
      "  % freq, ValueWarning)\n"
     ]
    }
   ],
   "source": [
    "## fit model\n",
    "model_ses = SimpleExpSmoothing(train).fit()"
   ]
  },
  {
   "cell_type": "code",
   "execution_count": 19,
   "metadata": {},
   "outputs": [],
   "source": [
    "## get predictions\n",
    "pred_ses = model_ses.forecast(len(test))"
   ]
  },
  {
   "cell_type": "code",
   "execution_count": 20,
   "metadata": {},
   "outputs": [
    {
     "data": {
      "image/png": "[encoded data removed]",
      "text/plain": [
       "<Figure size 432x288 with 1 Axes>"
      ]
     },
     "metadata": {
      "needs_background": "light"
     },
     "output_type": "display_data"
    }
   ],
   "source": [
    "## visualize forecasted values\n",
    "plt.plot(test, label='Observed (test data)')\n",
    "plt.plot(pred_ses, color='red', label = 'Predicted')\n",
    "plt.title('Simple Exponential Smoothing')\n",
    "plt.legend()\n",
    "plt.show()"
   ]
  },
  {
   "cell_type": "markdown",
   "metadata": {},
   "source": [
    "Since the data has trend & seasonal components, Simple Exponential Smoothing is not suitable for making predictions. The predictions in this case are converging to mean value"
   ]
  },
  {
   "cell_type": "code",
   "execution_count": 21,
   "metadata": {},
   "outputs": [
    {
     "data": {
      "text/html": [
       "<div>\n",
       "<style scoped>\n",
       "    .dataframe tbody tr th:only-of-type {\n",
       "        vertical-align: middle;\n",
       "    }\n",
       "\n",
       "    .dataframe tbody tr th {\n",
       "        vertical-align: top;\n",
       "    }\n",
       "\n",
       "    .dataframe thead th {\n",
       "        text-align: right;\n",
       "    }\n",
       "</style>\n",
       "<table border=\"1\" class=\"dataframe\">\n",
       "  <thead>\n",
       "    <tr style=\"text-align: right;\">\n",
       "      <th></th>\n",
       "      <th>r2_score</th>\n",
       "      <th>mean_absolute_error</th>\n",
       "      <th>median_absolute_error</th>\n",
       "      <th>mse</th>\n",
       "      <th>mape</th>\n",
       "      <th>rmse</th>\n",
       "    </tr>\n",
       "  </thead>\n",
       "  <tbody>\n",
       "    <tr>\n",
       "      <th>0</th>\n",
       "      <td>-0.91357</td>\n",
       "      <td>79.840909</td>\n",
       "      <td>58.5</td>\n",
       "      <td>11183.022727</td>\n",
       "      <td>16.907209</td>\n",
       "      <td>105.749812</td>\n",
       "    </tr>\n",
       "  </tbody>\n",
       "</table>\n",
       "</div>"
      ],
      "text/plain": [
       "   r2_score  mean_absolute_error  median_absolute_error           mse       mape        rmse\n",
       "0  -0.91357            79.840909                   58.5  11183.022727  16.907209  105.749812"
      ]
     },
     "execution_count": 21,
     "metadata": {},
     "output_type": "execute_result"
    }
   ],
   "source": [
    "## get predictions & evaluation metrics\n",
    "evaluate_forecast(test.passengers.tolist(), pred_ses)"
   ]
  },
  {
   "cell_type": "markdown",
   "metadata": {},
   "source": [
    "#### Holt's Linear trend"
   ]
  },
  {
   "cell_type": "code",
   "execution_count": 22,
   "metadata": {},
   "outputs": [
    {
     "name": "stderr",
     "output_type": "stream",
     "text": [
      "C:\\Users\\Sai Vishnu\\AppData\\Local\\Continuum\\anaconda3\\lib\\site-packages\\statsmodels\\tsa\\base\\tsa_model.py:171: ValueWarning: No frequency information was provided, so inferred frequency MS will be used.\n",
      "  % freq, ValueWarning)\n"
     ]
    }
   ],
   "source": [
    "# fit model\n",
    "from statsmodels.tsa.api import Holt\n",
    "\n",
    "model_holt = Holt(train).fit(smoothing_level=0.8, smoothing_slope=0.2)"
   ]
  },
  {
   "cell_type": "code",
   "execution_count": 23,
   "metadata": {},
   "outputs": [],
   "source": [
    "## get predictions\n",
    "pred_holt = model_holt.forecast(len(test))"
   ]
  },
  {
   "cell_type": "code",
   "execution_count": 24,
   "metadata": {},
   "outputs": [
    {
     "data": {
      "image/png": "[encoded data removed]",
      "text/plain": [
       "<Figure size 432x288 with 1 Axes>"
      ]
     },
     "metadata": {
      "needs_background": "light"
     },
     "output_type": "display_data"
    }
   ],
   "source": [
    "## visualize forecasted values\n",
    "plt.plot(test, label='Observed (test data)')\n",
    "plt.plot(pred_holt, color='red', label = 'Predicted')\n",
    "plt.title('Holt Linear Trend')\n",
    "plt.legend()\n",
    "plt.show()"
   ]
  },
  {
   "cell_type": "markdown",
   "metadata": {},
   "source": [
    "Holt's Linear Trend model is capturing trend component, but not able to model the seasonal variations in data"
   ]
  },
  {
   "cell_type": "code",
   "execution_count": 25,
   "metadata": {},
   "outputs": [
    {
     "data": {
      "text/html": [
       "<div>\n",
       "<style scoped>\n",
       "    .dataframe tbody tr th:only-of-type {\n",
       "        vertical-align: middle;\n",
       "    }\n",
       "\n",
       "    .dataframe tbody tr th {\n",
       "        vertical-align: top;\n",
       "    }\n",
       "\n",
       "    .dataframe thead th {\n",
       "        text-align: right;\n",
       "    }\n",
       "</style>\n",
       "<table border=\"1\" class=\"dataframe\">\n",
       "  <thead>\n",
       "    <tr style=\"text-align: right;\">\n",
       "      <th></th>\n",
       "      <th>r2_score</th>\n",
       "      <th>mean_absolute_error</th>\n",
       "      <th>median_absolute_error</th>\n",
       "      <th>mse</th>\n",
       "      <th>mape</th>\n",
       "      <th>rmse</th>\n",
       "    </tr>\n",
       "  </thead>\n",
       "  <tbody>\n",
       "    <tr>\n",
       "      <th>0</th>\n",
       "      <td>-0.171535</td>\n",
       "      <td>73.399965</td>\n",
       "      <td>69.142114</td>\n",
       "      <td>6846.525793</td>\n",
       "      <td>18.303967</td>\n",
       "      <td>82.743736</td>\n",
       "    </tr>\n",
       "  </tbody>\n",
       "</table>\n",
       "</div>"
      ],
      "text/plain": [
       "   r2_score  mean_absolute_error  median_absolute_error          mse       mape       rmse\n",
       "0 -0.171535            73.399965              69.142114  6846.525793  18.303967  82.743736"
      ]
     },
     "execution_count": 25,
     "metadata": {},
     "output_type": "execute_result"
    }
   ],
   "source": [
    "## get evaluation metrics\n",
    "evaluate_forecast(test.passengers.tolist(), pred_holt)"
   ]
  },
  {
   "cell_type": "markdown",
   "metadata": {},
   "source": [
    "#### Holt Winter's Exponential smoothning"
   ]
  },
  {
   "cell_type": "code",
   "execution_count": 26,
   "metadata": {},
   "outputs": [],
   "source": [
    "## fit model\n",
    "from statsmodels.tsa.api import ExponentialSmoothing\n",
    "\n",
    "model_holtWinter = ExponentialSmoothing(train,trend='add', \n",
    "                                        seasonal='add',\n",
    "                                        seasonal_periods=6,\n",
    "                                        freq='MS').fit(use_boxcox=False)"
   ]
  },
  {
   "cell_type": "code",
   "execution_count": 27,
   "metadata": {},
   "outputs": [],
   "source": [
    "## get predictions\n",
    "pred_holtWinter = model_holtWinter.forecast(len(test))"
   ]
  },
  {
   "cell_type": "code",
   "execution_count": 28,
   "metadata": {},
   "outputs": [
    {
     "data": {
      "image/png": "[encoded data removed]",
      "text/plain": [
       "<Figure size 432x288 with 1 Axes>"
      ]
     },
     "metadata": {
      "needs_background": "light"
     },
     "output_type": "display_data"
    }
   ],
   "source": [
    "## visualize forecasted values\n",
    "plt.plot(test, label='Observed (test data)')\n",
    "plt.plot(pred_holtWinter, color='red', label = 'Predicted')\n",
    "plt.title('Holt Winter''s Exponential Smoothing')\n",
    "plt.legend()\n",
    "plt.show()"
   ]
  },
  {
   "cell_type": "markdown",
   "metadata": {},
   "source": [
    "Holt Winter's Exponential Smoothing captures both trend & seasonal components of the data"
   ]
  },
  {
   "cell_type": "code",
   "execution_count": 29,
   "metadata": {},
   "outputs": [
    {
     "data": {
      "text/html": [
       "<div>\n",
       "<style scoped>\n",
       "    .dataframe tbody tr th:only-of-type {\n",
       "        vertical-align: middle;\n",
       "    }\n",
       "\n",
       "    .dataframe tbody tr th {\n",
       "        vertical-align: top;\n",
       "    }\n",
       "\n",
       "    .dataframe thead th {\n",
       "        text-align: right;\n",
       "    }\n",
       "</style>\n",
       "<table border=\"1\" class=\"dataframe\">\n",
       "  <thead>\n",
       "    <tr style=\"text-align: right;\">\n",
       "      <th></th>\n",
       "      <th>r2_score</th>\n",
       "      <th>mean_absolute_error</th>\n",
       "      <th>median_absolute_error</th>\n",
       "      <th>mse</th>\n",
       "      <th>mape</th>\n",
       "      <th>rmse</th>\n",
       "    </tr>\n",
       "  </thead>\n",
       "  <tbody>\n",
       "    <tr>\n",
       "      <th>0</th>\n",
       "      <td>0.267016</td>\n",
       "      <td>56.506427</td>\n",
       "      <td>54.421963</td>\n",
       "      <td>4283.605887</td>\n",
       "      <td>13.998066</td>\n",
       "      <td>65.449262</td>\n",
       "    </tr>\n",
       "  </tbody>\n",
       "</table>\n",
       "</div>"
      ],
      "text/plain": [
       "   r2_score  mean_absolute_error  median_absolute_error          mse       mape       rmse\n",
       "0  0.267016            56.506427              54.421963  4283.605887  13.998066  65.449262"
      ]
     },
     "execution_count": 29,
     "metadata": {},
     "output_type": "execute_result"
    }
   ],
   "source": [
    "## get evaluation metrics\n",
    "evaluate_forecast(test.passengers.tolist(), pred_holtWinter)"
   ]
  }
 ],
 "metadata": {
  "kernelspec": {
   "display_name": "Python 3",
   "language": "python",
   "name": "python3"
  },
  "language_info": {
   "codemirror_mode": {
    "name": "ipython",
    "version": 3
   },
   "file_extension": ".py",
   "mimetype": "text/x-python",
   "name": "python",
   "nbconvert_exporter": "python",
   "pygments_lexer": "ipython3",
   "version": "3.7.4"
  },
  "toc": {
   "base_numbering": 1,
   "nav_menu": {},
   "number_sections": true,
   "sideBar": true,
   "skip_h1_title": false,
   "title_cell": "Table of Contents",
   "title_sidebar": "Contents",
   "toc_cell": true,
   "toc_position": {},
   "toc_section_display": true,
   "toc_window_display": false
  }
 },
 "nbformat": 4,
 "nbformat_minor": 2
}
